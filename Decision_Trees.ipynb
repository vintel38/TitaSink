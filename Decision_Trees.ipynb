{
 "cells": [
  {
   "cell_type": "markdown",
   "id": "competent-johnson",
   "metadata": {},
   "source": [
    "# TitaSink - Decision Trees\n",
    "\n",
    "La compétition [Kaggle Titanic](https:,,www.kaggle.com,c,titanic) - Machine Learning from Disaster est l'une des plus en vogue pour commencer le Machine Learning. Elle met à disposition du public une base de données des passagers du Titanic ainsi que des détails concernant leur voyage. Le but est de prédire à l'aide de différentes techniques de Machine Learning les personnes qui ont survécu à la catastrophe. Ce notebook commence par explorer les arbres de décision (Decision Trees) pour effectuer cette classification. C'est une technique qui a fait ses preuves, mais qui fonctionne toujours aussi bien sur ces taches de classification."
   ]
  },
  {
   "cell_type": "markdown",
   "id": "complete-eligibility",
   "metadata": {},
   "source": [
    "## Reste à faire \n",
    "- Explication de la heat map et des correlations \n",
    "- Intérêt de batch normalisation pour un petit dataset\n",
    "- Grid Search pour trouver la profondeur optimale de l'arbre dans les différentes phases de l'entraînement \n",
    "- Explication du plot-tree avec les paramètres et la fonction gini "
   ]
  },
  {
   "cell_type": "markdown",
   "id": "determined-phase",
   "metadata": {},
   "source": [
    "***\n",
    "On commence par importer les bibliothèques nécessaires au projet. La lecture du fichier fourni `train.csv` est effectuée par la bibliothèque Pandas qui est très connue pour manipuler des bases de données. "
   ]
  },
  {
   "cell_type": "code",
   "execution_count": 1,
   "id": "becoming-connectivity",
   "metadata": {},
   "outputs": [],
   "source": [
    "import numpy as np\n",
    "import matplotlib.pyplot as plt\n",
    "import os\n",
    "import pandas as pd\n",
    "import seaborn as sns"
   ]
  },
  {
   "cell_type": "code",
   "execution_count": 2,
   "id": "general-patio",
   "metadata": {},
   "outputs": [],
   "source": [
    "cwd = os.getcwd()"
   ]
  },
  {
   "cell_type": "code",
   "execution_count": 3,
   "id": "average-arabic",
   "metadata": {},
   "outputs": [
    {
     "name": "stdout",
     "output_type": "stream",
     "text": [
      "C:\\Users\\User\\Documents\\GitHub\\TitaSink\\train.csv\n"
     ]
    }
   ],
   "source": [
    "path = os.path.join(cwd,'train.csv')\n",
    "print(path)\n",
    "data = pd.read_csv(path)"
   ]
  },
  {
   "cell_type": "markdown",
   "id": "professional-order",
   "metadata": {},
   "source": [
    "***\n",
    "La tête de la base de données renseigne sur les différents attributs disponibles pour donner des informations sur chaque passager. La colonne Ticket reste relativement incompréhensible, de même que la colonne Cabin dans laquelle il manque beaucoup de valeurs. La colonne SibSp renseigne pour chaque passager le nombre de parents à bord sur un même niveau généalogique (épouse/mari, frère/soeur, cousin/cousine, ...). La colonne Parch renseigne pour chaque passager le nombre de parents à bord avec un niveau généalogique différent (père/mère, fille/fils, ...)."
   ]
  },
  {
   "cell_type": "code",
   "execution_count": 4,
   "id": "cognitive-victoria",
   "metadata": {},
   "outputs": [
    {
     "data": {
      "text/html": [
       "<div>\n",
       "<style scoped>\n",
       "    .dataframe tbody tr th:only-of-type {\n",
       "        vertical-align: middle;\n",
       "    }\n",
       "\n",
       "    .dataframe tbody tr th {\n",
       "        vertical-align: top;\n",
       "    }\n",
       "\n",
       "    .dataframe thead th {\n",
       "        text-align: right;\n",
       "    }\n",
       "</style>\n",
       "<table border=\"1\" class=\"dataframe\">\n",
       "  <thead>\n",
       "    <tr style=\"text-align: right;\">\n",
       "      <th></th>\n",
       "      <th>PassengerId</th>\n",
       "      <th>Survived</th>\n",
       "      <th>Pclass</th>\n",
       "      <th>Name</th>\n",
       "      <th>Sex</th>\n",
       "      <th>Age</th>\n",
       "      <th>SibSp</th>\n",
       "      <th>Parch</th>\n",
       "      <th>Ticket</th>\n",
       "      <th>Fare</th>\n",
       "      <th>Cabin</th>\n",
       "      <th>Embarked</th>\n",
       "    </tr>\n",
       "  </thead>\n",
       "  <tbody>\n",
       "    <tr>\n",
       "      <th>0</th>\n",
       "      <td>1</td>\n",
       "      <td>0</td>\n",
       "      <td>3</td>\n",
       "      <td>Braund, Mr. Owen Harris</td>\n",
       "      <td>male</td>\n",
       "      <td>22.0</td>\n",
       "      <td>1</td>\n",
       "      <td>0</td>\n",
       "      <td>A/5 21171</td>\n",
       "      <td>7.2500</td>\n",
       "      <td>NaN</td>\n",
       "      <td>S</td>\n",
       "    </tr>\n",
       "    <tr>\n",
       "      <th>1</th>\n",
       "      <td>2</td>\n",
       "      <td>1</td>\n",
       "      <td>1</td>\n",
       "      <td>Cumings, Mrs. John Bradley (Florence Briggs Th...</td>\n",
       "      <td>female</td>\n",
       "      <td>38.0</td>\n",
       "      <td>1</td>\n",
       "      <td>0</td>\n",
       "      <td>PC 17599</td>\n",
       "      <td>71.2833</td>\n",
       "      <td>C85</td>\n",
       "      <td>C</td>\n",
       "    </tr>\n",
       "    <tr>\n",
       "      <th>2</th>\n",
       "      <td>3</td>\n",
       "      <td>1</td>\n",
       "      <td>3</td>\n",
       "      <td>Heikkinen, Miss. Laina</td>\n",
       "      <td>female</td>\n",
       "      <td>26.0</td>\n",
       "      <td>0</td>\n",
       "      <td>0</td>\n",
       "      <td>STON/O2. 3101282</td>\n",
       "      <td>7.9250</td>\n",
       "      <td>NaN</td>\n",
       "      <td>S</td>\n",
       "    </tr>\n",
       "    <tr>\n",
       "      <th>3</th>\n",
       "      <td>4</td>\n",
       "      <td>1</td>\n",
       "      <td>1</td>\n",
       "      <td>Futrelle, Mrs. Jacques Heath (Lily May Peel)</td>\n",
       "      <td>female</td>\n",
       "      <td>35.0</td>\n",
       "      <td>1</td>\n",
       "      <td>0</td>\n",
       "      <td>113803</td>\n",
       "      <td>53.1000</td>\n",
       "      <td>C123</td>\n",
       "      <td>S</td>\n",
       "    </tr>\n",
       "    <tr>\n",
       "      <th>4</th>\n",
       "      <td>5</td>\n",
       "      <td>0</td>\n",
       "      <td>3</td>\n",
       "      <td>Allen, Mr. William Henry</td>\n",
       "      <td>male</td>\n",
       "      <td>35.0</td>\n",
       "      <td>0</td>\n",
       "      <td>0</td>\n",
       "      <td>373450</td>\n",
       "      <td>8.0500</td>\n",
       "      <td>NaN</td>\n",
       "      <td>S</td>\n",
       "    </tr>\n",
       "  </tbody>\n",
       "</table>\n",
       "</div>"
      ],
      "text/plain": [
       "   PassengerId  Survived  Pclass  \\\n",
       "0            1         0       3   \n",
       "1            2         1       1   \n",
       "2            3         1       3   \n",
       "3            4         1       1   \n",
       "4            5         0       3   \n",
       "\n",
       "                                                Name     Sex   Age  SibSp  \\\n",
       "0                            Braund, Mr. Owen Harris    male  22.0      1   \n",
       "1  Cumings, Mrs. John Bradley (Florence Briggs Th...  female  38.0      1   \n",
       "2                             Heikkinen, Miss. Laina  female  26.0      0   \n",
       "3       Futrelle, Mrs. Jacques Heath (Lily May Peel)  female  35.0      1   \n",
       "4                           Allen, Mr. William Henry    male  35.0      0   \n",
       "\n",
       "   Parch            Ticket     Fare Cabin Embarked  \n",
       "0      0         A/5 21171   7.2500   NaN        S  \n",
       "1      0          PC 17599  71.2833   C85        C  \n",
       "2      0  STON/O2. 3101282   7.9250   NaN        S  \n",
       "3      0            113803  53.1000  C123        S  \n",
       "4      0            373450   8.0500   NaN        S  "
      ]
     },
     "execution_count": 4,
     "metadata": {},
     "output_type": "execute_result"
    }
   ],
   "source": [
    "data.head()"
   ]
  },
  {
   "cell_type": "markdown",
   "id": "realistic-branch",
   "metadata": {},
   "source": [
    "***\n",
    "La commande suivante permet de décrire les statistiques des variables numériques. Un premier aperçu des différentes valeurs permet de visualiser la dispersion des données et de localiser s'il y en a des valeurs suspectes (outliers) : un extremum inattendu qui fait référence à des valeurs impossibles, ... Le compte permet de visualiser la proportion de valeurs manquantes (missing values)."
   ]
  },
  {
   "cell_type": "code",
   "execution_count": 5,
   "id": "revolutionary-madonna",
   "metadata": {},
   "outputs": [
    {
     "data": {
      "text/html": [
       "<div>\n",
       "<style scoped>\n",
       "    .dataframe tbody tr th:only-of-type {\n",
       "        vertical-align: middle;\n",
       "    }\n",
       "\n",
       "    .dataframe tbody tr th {\n",
       "        vertical-align: top;\n",
       "    }\n",
       "\n",
       "    .dataframe thead th {\n",
       "        text-align: right;\n",
       "    }\n",
       "</style>\n",
       "<table border=\"1\" class=\"dataframe\">\n",
       "  <thead>\n",
       "    <tr style=\"text-align: right;\">\n",
       "      <th></th>\n",
       "      <th>PassengerId</th>\n",
       "      <th>Survived</th>\n",
       "      <th>Pclass</th>\n",
       "      <th>Age</th>\n",
       "      <th>SibSp</th>\n",
       "      <th>Parch</th>\n",
       "      <th>Fare</th>\n",
       "    </tr>\n",
       "  </thead>\n",
       "  <tbody>\n",
       "    <tr>\n",
       "      <th>count</th>\n",
       "      <td>891.000000</td>\n",
       "      <td>891.000000</td>\n",
       "      <td>891.000000</td>\n",
       "      <td>714.000000</td>\n",
       "      <td>891.000000</td>\n",
       "      <td>891.000000</td>\n",
       "      <td>891.000000</td>\n",
       "    </tr>\n",
       "    <tr>\n",
       "      <th>mean</th>\n",
       "      <td>446.000000</td>\n",
       "      <td>0.383838</td>\n",
       "      <td>2.308642</td>\n",
       "      <td>29.699118</td>\n",
       "      <td>0.523008</td>\n",
       "      <td>0.381594</td>\n",
       "      <td>32.204208</td>\n",
       "    </tr>\n",
       "    <tr>\n",
       "      <th>std</th>\n",
       "      <td>257.353842</td>\n",
       "      <td>0.486592</td>\n",
       "      <td>0.836071</td>\n",
       "      <td>14.526497</td>\n",
       "      <td>1.102743</td>\n",
       "      <td>0.806057</td>\n",
       "      <td>49.693429</td>\n",
       "    </tr>\n",
       "    <tr>\n",
       "      <th>min</th>\n",
       "      <td>1.000000</td>\n",
       "      <td>0.000000</td>\n",
       "      <td>1.000000</td>\n",
       "      <td>0.420000</td>\n",
       "      <td>0.000000</td>\n",
       "      <td>0.000000</td>\n",
       "      <td>0.000000</td>\n",
       "    </tr>\n",
       "    <tr>\n",
       "      <th>25%</th>\n",
       "      <td>223.500000</td>\n",
       "      <td>0.000000</td>\n",
       "      <td>2.000000</td>\n",
       "      <td>20.125000</td>\n",
       "      <td>0.000000</td>\n",
       "      <td>0.000000</td>\n",
       "      <td>7.910400</td>\n",
       "    </tr>\n",
       "    <tr>\n",
       "      <th>50%</th>\n",
       "      <td>446.000000</td>\n",
       "      <td>0.000000</td>\n",
       "      <td>3.000000</td>\n",
       "      <td>28.000000</td>\n",
       "      <td>0.000000</td>\n",
       "      <td>0.000000</td>\n",
       "      <td>14.454200</td>\n",
       "    </tr>\n",
       "    <tr>\n",
       "      <th>75%</th>\n",
       "      <td>668.500000</td>\n",
       "      <td>1.000000</td>\n",
       "      <td>3.000000</td>\n",
       "      <td>38.000000</td>\n",
       "      <td>1.000000</td>\n",
       "      <td>0.000000</td>\n",
       "      <td>31.000000</td>\n",
       "    </tr>\n",
       "    <tr>\n",
       "      <th>max</th>\n",
       "      <td>891.000000</td>\n",
       "      <td>1.000000</td>\n",
       "      <td>3.000000</td>\n",
       "      <td>80.000000</td>\n",
       "      <td>8.000000</td>\n",
       "      <td>6.000000</td>\n",
       "      <td>512.329200</td>\n",
       "    </tr>\n",
       "  </tbody>\n",
       "</table>\n",
       "</div>"
      ],
      "text/plain": [
       "      PassengerId    Survived      Pclass         Age       SibSp       Parch  \\\n",
       "count  891.000000  891.000000  891.000000  714.000000  891.000000  891.000000   \n",
       "mean   446.000000    0.383838    2.308642   29.699118    0.523008    0.381594   \n",
       "std    257.353842    0.486592    0.836071   14.526497    1.102743    0.806057   \n",
       "min      1.000000    0.000000    1.000000    0.420000    0.000000    0.000000   \n",
       "25%    223.500000    0.000000    2.000000   20.125000    0.000000    0.000000   \n",
       "50%    446.000000    0.000000    3.000000   28.000000    0.000000    0.000000   \n",
       "75%    668.500000    1.000000    3.000000   38.000000    1.000000    0.000000   \n",
       "max    891.000000    1.000000    3.000000   80.000000    8.000000    6.000000   \n",
       "\n",
       "             Fare  \n",
       "count  891.000000  \n",
       "mean    32.204208  \n",
       "std     49.693429  \n",
       "min      0.000000  \n",
       "25%      7.910400  \n",
       "50%     14.454200  \n",
       "75%     31.000000  \n",
       "max    512.329200  "
      ]
     },
     "execution_count": 5,
     "metadata": {},
     "output_type": "execute_result"
    }
   ],
   "source": [
    "data.describe().apply(lambda s: s.apply(lambda x: format(x, 'f')))"
   ]
  },
  {
   "cell_type": "markdown",
   "id": "aerial-inside",
   "metadata": {},
   "source": [
    "***\n",
    "La fonction `pandas.Dataframe.isna()` est dédiée uniquement au décompte de missing value pour les variables typées int64. On peut alors voir que l'attribut Age comptabilise beaucoup de missing values (20%), l'attribut Ticket encore plus (77%) et l'attribut Embarked seulement quelques-unes (0.2%). On sait qu'un attribut avec plus de 40% de missing value n'est pas exploitable. Cette fonction nous permet d'avoir une première information sur les attributs qui vont devoir être supprimés, et ceux dont les missing value vont devoir être \"inputées\"."
   ]
  },
  {
   "cell_type": "code",
   "execution_count": 6,
   "id": "critical-tuning",
   "metadata": {
    "tags": []
   },
   "outputs": [
    {
     "data": {
      "text/plain": [
       "PassengerId      0\n",
       "Survived         0\n",
       "Pclass           0\n",
       "Name             0\n",
       "Sex              0\n",
       "Age            177\n",
       "SibSp            0\n",
       "Parch            0\n",
       "Ticket           0\n",
       "Fare             0\n",
       "Cabin          687\n",
       "Embarked         2\n",
       "dtype: int64"
      ]
     },
     "execution_count": 6,
     "metadata": {},
     "output_type": "execute_result"
    }
   ],
   "source": [
    "data.isna().sum()"
   ]
  },
  {
   "cell_type": "code",
   "execution_count": 7,
   "id": "raising-carnival",
   "metadata": {},
   "outputs": [
    {
     "data": {
      "image/png": "[encoded data removed]",
      "text/plain": [
       "<Figure size 432x288 with 6 Axes>"
      ]
     },
     "metadata": {
      "needs_background": "light"
     },
     "output_type": "display_data"
    }
   ],
   "source": [
    "data.hist(column=['Pclass','Sex','Age','Fare', 'SibSp', 'Parch'])\n",
    "plt.tight_layout(pad=0.4, w_pad=0.5, h_pad=1.0)"
   ]
  },
  {
   "cell_type": "code",
   "execution_count": 8,
   "id": "coordinate-native",
   "metadata": {},
   "outputs": [],
   "source": [
    "def preprocess(data, onehot=True):\n",
    "    \n",
    "    data['Sex'].replace(['female','male'],[0,1], inplace=True) \n",
    "    # l'attribut Sex est DANS CE DATASET binaire. \n",
    "    # On peut donc facilement remplacer les valeurs de cet attribut par des valeurs binaires.\n",
    "    # Noter que l'argument inplace de la fonction permet d'avoir une transformation sous forme \n",
    "    # de procédure plutôt que sous forme de fonction. Cela permet d'éviter le recopiage mémoire du dataset.\n",
    "    \n",
    "    data.drop(columns=['Name', 'Cabin', 'Ticket','PassengerId'], inplace=True) \n",
    "    # On supprime du dataset les colonnes qui ne présentent pas d'intérêt pour la classification \n",
    "    # L'attribut Cabin présente trop de missing value NaN\n",
    "    # L'attribut Ticket est assez indéchiffrable \n",
    "    # Le Nom ne présente pas d'intérêt pour la complexité de cette étude. Peut-être qu'une étude NLP pourrait \n",
    "    # montrer des dépendances entre le nom et la survivabilité du passager en fonction de son origine (réaction \n",
    "    # différente face au danger en fonction des origines ? ). \n",
    "    \n",
    "    data['Embarked'].fillna('C', inplace=True) \n",
    "    # L'attribut Embarked a 2 missing values. On peut penser que les remplir aléatoirement est une bonne idée \n",
    "    # dans une première approximation sans avoir d'autres idées sur les dépendances inter-attributs. Est-ce que cette \n",
    "    # technique peut quand même générer des outliers si des dépendances existent entre les attributs ? \n",
    "    \n",
    "    index = data[data['Age'].isna()].index # REALLY IMPORTANT\n",
    "    value = np.absolute(np.random.normal(loc=data['Age'].mean(), scale=data['Age'].std(), size=data['Age'].isna().sum()))\n",
    "    data['Age'].fillna(pd.Series(value, index=index), inplace=True)    \n",
    "    # L'attribut Age présente beaucoup de missing values. Sans information supplémentaire, remplir les valeurs \n",
    "    # manquantes avec une loi normale est une solution simple et efficace. \n",
    "    # https://stackoverflow.com/questions/53104625/pandas-fill-in-missing-values-choosing-values-from-a-normal-distribution\n",
    "    # Cependant, compte tenu du nombre important de missing value, peut-être qu'avoir des informations avant \n",
    "    # d'inputer les missing values serait bénéfique pour ne pas influer trop sur l'information contenue dans \n",
    "    # le dataset par l'attribut Age. \n",
    "    \n",
    "    if onehot:\n",
    "        data = pd.get_dummies(data, columns=['Pclass', 'Embarked'])\n",
    "        # Enfin, les variables categorical se doivent d'être one-hot encoded pour conserver l'information de classes \n",
    "        # sous forme numérique. Chaque valeur possible l'attribut apporte une colonne binaire supplémentaire dans le \n",
    "        # dataset final. \n",
    "    else:\n",
    "        True\n",
    "    \n",
    "    return data"
   ]
  },
  {
   "cell_type": "markdown",
   "id": "resident-palestine",
   "metadata": {},
   "source": [
    "***\n",
    "On commence par observer les distribution et dépendences parmi les différents attributs sans procéder au one-hot encoding pour les attributs catégoriques. "
   ]
  },
  {
   "cell_type": "code",
   "execution_count": 9,
   "id": "alive-badge",
   "metadata": {},
   "outputs": [
    {
     "data": {
      "image/png": "[encoded data removed]",
      "text/plain": [
       "<Figure size 432x288 with 6 Axes>"
      ]
     },
     "metadata": {
      "needs_background": "light"
     },
     "output_type": "display_data"
    }
   ],
   "source": [
    "data_display = data.copy()\n",
    "preprocess(data_display, onehot=False)\n",
    "\n",
    "data_display.hist(column=['Pclass','Sex','Age','Fare', 'SibSp', 'Parch'])\n",
    "plt.tight_layout(pad=0.4, w_pad=0.5, h_pad=1.0)"
   ]
  },
  {
   "cell_type": "markdown",
   "id": "private-performance",
   "metadata": {},
   "source": [
    "### Explication de la heat map entre les variables correlées ? "
   ]
  },
  {
   "cell_type": "code",
   "execution_count": 10,
   "id": "indie-convenience",
   "metadata": {},
   "outputs": [
    {
     "data": {
      "text/plain": [
       "<AxesSubplot:>"
      ]
     },
     "execution_count": 10,
     "metadata": {},
     "output_type": "execute_result"
    },
    {
     "data": {
      "image/png": "[encoded data removed]",
      "text/plain": [
       "<Figure size 432x288 with 2 Axes>"
      ]
     },
     "metadata": {
      "needs_background": "light"
     },
     "output_type": "display_data"
    }
   ],
   "source": [
    "sns.heatmap(data_display.corr(), annot=True,linewidth=.5,fmt='.2f')"
   ]
  },
  {
   "cell_type": "raw",
   "id": "acoustic-chase",
   "metadata": {},
   "source": [
    "#Pair Plot\n",
    "sns.pairplot(data_display.drop('PassengerId', axis=1), hue='Survived')\n",
    "plt.show()"
   ]
  },
  {
   "cell_type": "markdown",
   "id": "universal-expansion",
   "metadata": {},
   "source": [
    "***\n",
    "La première chose à faire pour le prétraitement d'une base de données est de la séparer en une partie entraînement et une partie validation. Cette opération permet pour les phases suivantes de remplissage de valeurs manquantes sur critères statistiques que les données contenues dans le jeu de données de validation n'influent pas sur l'entraînement du modèle. En effet, si cette séparation n'est pas effectuée au bon moment, une partie des informations du dataset de validation passe dans le processus d'entraînement et l'évaluation de la validation ne donne pas une valeur fiable de la précision. Après avoir réalisé la séparation, on effectue le prétraitement."
   ]
  },
  {
   "cell_type": "code",
   "execution_count": 11,
   "id": "olympic-stand",
   "metadata": {},
   "outputs": [],
   "source": [
    "n=80\n",
    "\n",
    "X_train = data.drop('Survived', axis=1).head(int(len(data)*n/100))\n",
    "X_train = preprocess(X_train)\n",
    "Y_train = data['Survived'].head(int(len(data)*n/100))\n",
    "\n",
    "X_val = data.drop('Survived', axis=1).tail(int(len(data)*(100-n)/100)+1)\n",
    "X_val = preprocess(X_val)\n",
    "Y_val = data['Survived'].tail(int(len(data)*(100-n)/100)+1)"
   ]
  },
  {
   "cell_type": "markdown",
   "id": "experienced-allowance",
   "metadata": {},
   "source": [
    "***\n",
    "On procède maintenant à la normalisation des données avant d'être données comme entrées au modèle de classification. La normalisation permet, indépendamment pour chaque attribut, d'avoir des valeurs comprises entre 0 et 1 ce qui convient bien au mécanisme d'activation pour les réseaux de neurones et qui permet de ne pas concentrer l'optimisation sur un attribut qui aurait une plage de valeurs plus large que d'autres attributs. La normalisation est réalisée en calculant la moyenne et l'écart-type pour chaque attribut puis en soustrayant et divisant ces attributs avec ces mêmes paramètres statistiques. À noter que le calcul des paramètres statistiques est effectué seulement sur les données d'entraînement et sera réutilisé tout du long pour la normalisation d'autres données d'entrée, toujours pour éviter le phénomène de transfert d'informations d'un processus vers un autre. "
   ]
  },
  {
   "cell_type": "code",
   "execution_count": 12,
   "id": "cross-leave",
   "metadata": {},
   "outputs": [],
   "source": [
    "from sklearn.preprocessing import StandardScaler\n",
    "\n",
    "scaler=StandardScaler()\n",
    "X_train = scaler.fit_transform(X_train)\n",
    "# Fit to data, then transform it.\n",
    "X_val = scaler.transform(X_val)\n",
    "# Transform the data with previous statistical parameters\n",
    "# https://datascience.stackexchange.com/questions/38395/standardscaler-before-and-after-splitting-data"
   ]
  },
  {
   "cell_type": "markdown",
   "id": "educated-thousand",
   "metadata": {},
   "source": [
    "***\n",
    "On commence par importer le modèle d'arbre de décision depuis la bibliothèque SKLearn. Pour une complexité faible, on commence par une profondeur dans l'arbre de décision de 3. Ensuite, on peut fitter directement les paramètres de l'arbre au dataset d'entraînement que l'on a construit.&nbsp;"
   ]
  },
  {
   "cell_type": "code",
   "execution_count": 13,
   "id": "grateful-tribe",
   "metadata": {},
   "outputs": [
    {
     "data": {
      "text/plain": [
       "DecisionTreeClassifier(max_depth=3)"
      ]
     },
     "execution_count": 13,
     "metadata": {},
     "output_type": "execute_result"
    }
   ],
   "source": [
    "# Let us start by Decision Tree Classifier from SKLEARN PACKAGES\n",
    "import sklearn as sk \n",
    "from sklearn.tree import DecisionTreeClassifier\n",
    "\n",
    "TreeClf = DecisionTreeClassifier(max_depth=3)\n",
    "TreeClf.fit(X_train, Y_train)"
   ]
  },
  {
   "cell_type": "code",
   "execution_count": 14,
   "id": "ecological-deviation",
   "metadata": {},
   "outputs": [
    {
     "data": {
      "text/plain": [
       "0.8033707865168539"
      ]
     },
     "execution_count": 14,
     "metadata": {},
     "output_type": "execute_result"
    }
   ],
   "source": [
    "score = TreeClf.score(X_train, Y_train)\n",
    "score"
   ]
  },
  {
   "cell_type": "code",
   "execution_count": 15,
   "id": "alien-gospel",
   "metadata": {},
   "outputs": [
    {
     "data": {
      "text/plain": [
       "[Text(167.4, 190.26, 'X[0] <= -0.293\\ngini = 0.476\\nsamples = 712\\nvalue = [434, 278]'),\n",
       " Text(83.7, 135.9, 'X[7] <= -0.096\\ngini = 0.383\\nsamples = 256\\nvalue = [66, 190]'),\n",
       " Text(41.85, 81.53999999999999, 'X[1] <= -1.86\\ngini = 0.098\\nsamples = 135\\nvalue = [7, 128]'),\n",
       " Text(20.925, 27.180000000000007, 'gini = 0.5\\nsamples = 2\\nvalue = [1, 1]'),\n",
       " Text(62.775000000000006, 27.180000000000007, 'gini = 0.086\\nsamples = 133\\nvalue = [6, 127]'),\n",
       " Text(125.55000000000001, 81.53999999999999, 'X[4] <= -0.158\\ngini = 0.5\\nsamples = 121\\nvalue = [59, 62]'),\n",
       " Text(104.625, 27.180000000000007, 'gini = 0.486\\nsamples = 103\\nvalue = [43, 60]'),\n",
       " Text(146.475, 27.180000000000007, 'gini = 0.198\\nsamples = 18\\nvalue = [16, 2]'),\n",
       " Text(251.10000000000002, 135.9, 'X[5] <= 0.59\\ngini = 0.311\\nsamples = 456\\nvalue = [368, 88]'),\n",
       " Text(209.25, 81.53999999999999, 'X[1] <= -1.131\\ngini = 0.247\\nsamples = 354\\nvalue = [303, 51]'),\n",
       " Text(188.32500000000002, 27.180000000000007, 'gini = 0.473\\nsamples = 39\\nvalue = [24, 15]'),\n",
       " Text(230.175, 27.180000000000007, 'gini = 0.202\\nsamples = 315\\nvalue = [279, 36]'),\n",
       " Text(292.95, 81.53999999999999, 'X[1] <= 0.892\\ngini = 0.462\\nsamples = 102\\nvalue = [65, 37]'),\n",
       " Text(272.02500000000003, 27.180000000000007, 'gini = 0.497\\nsamples = 56\\nvalue = [30, 26]'),\n",
       " Text(313.875, 27.180000000000007, 'gini = 0.364\\nsamples = 46\\nvalue = [35, 11]')]"
      ]
     },
     "execution_count": 15,
     "metadata": {},
     "output_type": "execute_result"
    },
    {
     "data": {
      "image/png": "[encoded data removed]",
      "text/plain": [
       "<Figure size 432x288 with 1 Axes>"
      ]
     },
     "metadata": {
      "needs_background": "light"
     },
     "output_type": "display_data"
    }
   ],
   "source": [
    "sk.tree.plot_tree(TreeClf)"
   ]
  },
  {
   "cell_type": "markdown",
   "id": "popular-confirmation",
   "metadata": {},
   "source": [
    "***\n",
    "Un premier arbre de décision avec une profondeur faible de 3 donne déjà de très bons résultats sur la prédiction des données d'entraînement. Voyons par la suite comment il généralise à de nouvelles données."
   ]
  },
  {
   "cell_type": "code",
   "execution_count": 16,
   "id": "severe-wings",
   "metadata": {},
   "outputs": [
    {
     "data": {
      "text/plain": [
       "0.8268156424581006"
      ]
     },
     "execution_count": 16,
     "metadata": {},
     "output_type": "execute_result"
    }
   ],
   "source": [
    "from sklearn.metrics import accuracy_score\n",
    "\n",
    "acc = accuracy_score(TreeClf.predict(X_val), Y_val)\n",
    "acc"
   ]
  },
  {
   "cell_type": "markdown",
   "id": "clean-scheduling",
   "metadata": {},
   "source": [
    "***\n",
    "Avant d'effectuer la prédiction sur les données du fichier `test.csv`, il faut ré entraîner l'arbre de décision sur l'ensemble des données d'entraînement disponibles pour que le modèle assimile un maximum d'informations et soit capable de mieux généraliser à de nouvelles données. On effectue donc une nouvelle normalisation pour entraîner un nouvel arbre de décision. Comme la quantité assimilée par l'arbre de décision a augmenté, la profondeur d'arbre optimale pourrait être différente de la précédente. Pour un premier essai, on ne s'intéressera pas à l'optimisation fine des hyperparamètres."
   ]
  },
  {
   "cell_type": "code",
   "execution_count": 17,
   "id": "republican-longer",
   "metadata": {},
   "outputs": [
    {
     "data": {
      "text/plain": [
       "DecisionTreeClassifier(max_depth=3)"
      ]
     },
     "execution_count": 17,
     "metadata": {},
     "output_type": "execute_result"
    }
   ],
   "source": [
    "data_TOT = preprocess(data)\n",
    "\n",
    "X_TOT = data_TOT.drop('Survived', axis=1)\n",
    "scaler_TOT=StandardScaler()\n",
    "X_TOT = scaler_TOT.fit_transform(X_TOT)\n",
    "\n",
    "TreeClf_TOT = DecisionTreeClassifier(max_depth=3)\n",
    "TreeClf_TOT.fit(X_TOT, data_TOT['Survived'])"
   ]
  },
  {
   "cell_type": "code",
   "execution_count": 18,
   "id": "05c58e85-388c-4a3c-8352-56629877c80d",
   "metadata": {},
   "outputs": [
    {
     "data": {
      "text/plain": [
       "0.8103254769921436"
      ]
     },
     "execution_count": 18,
     "metadata": {},
     "output_type": "execute_result"
    }
   ],
   "source": [
    "score = TreeClf_TOT.score(X_TOT, data_TOT['Survived'])\n",
    "score"
   ]
  },
  {
   "cell_type": "code",
   "execution_count": 19,
   "id": "incorrect-girlfriend",
   "metadata": {},
   "outputs": [
    {
     "name": "stdout",
     "output_type": "stream",
     "text": [
      "C:\\Users\\User\\Documents\\GitHub\\TitaSink\\test.csv\n"
     ]
    }
   ],
   "source": [
    "path = os.path.join(cwd,'test.csv')\n",
    "print(path)\n",
    "test = pd.read_csv(path)"
   ]
  },
  {
   "cell_type": "code",
   "execution_count": 20,
   "id": "third-tsunami",
   "metadata": {},
   "outputs": [
    {
     "data": {
      "text/html": [
       "<div>\n",
       "<style scoped>\n",
       "    .dataframe tbody tr th:only-of-type {\n",
       "        vertical-align: middle;\n",
       "    }\n",
       "\n",
       "    .dataframe tbody tr th {\n",
       "        vertical-align: top;\n",
       "    }\n",
       "\n",
       "    .dataframe thead th {\n",
       "        text-align: right;\n",
       "    }\n",
       "</style>\n",
       "<table border=\"1\" class=\"dataframe\">\n",
       "  <thead>\n",
       "    <tr style=\"text-align: right;\">\n",
       "      <th></th>\n",
       "      <th>PassengerId</th>\n",
       "      <th>Pclass</th>\n",
       "      <th>Name</th>\n",
       "      <th>Sex</th>\n",
       "      <th>Age</th>\n",
       "      <th>SibSp</th>\n",
       "      <th>Parch</th>\n",
       "      <th>Ticket</th>\n",
       "      <th>Fare</th>\n",
       "      <th>Cabin</th>\n",
       "      <th>Embarked</th>\n",
       "    </tr>\n",
       "  </thead>\n",
       "  <tbody>\n",
       "    <tr>\n",
       "      <th>0</th>\n",
       "      <td>892</td>\n",
       "      <td>3</td>\n",
       "      <td>Kelly, Mr. James</td>\n",
       "      <td>male</td>\n",
       "      <td>34.5</td>\n",
       "      <td>0</td>\n",
       "      <td>0</td>\n",
       "      <td>330911</td>\n",
       "      <td>7.8292</td>\n",
       "      <td>NaN</td>\n",
       "      <td>Q</td>\n",
       "    </tr>\n",
       "    <tr>\n",
       "      <th>1</th>\n",
       "      <td>893</td>\n",
       "      <td>3</td>\n",
       "      <td>Wilkes, Mrs. James (Ellen Needs)</td>\n",
       "      <td>female</td>\n",
       "      <td>47.0</td>\n",
       "      <td>1</td>\n",
       "      <td>0</td>\n",
       "      <td>363272</td>\n",
       "      <td>7.0000</td>\n",
       "      <td>NaN</td>\n",
       "      <td>S</td>\n",
       "    </tr>\n",
       "    <tr>\n",
       "      <th>2</th>\n",
       "      <td>894</td>\n",
       "      <td>2</td>\n",
       "      <td>Myles, Mr. Thomas Francis</td>\n",
       "      <td>male</td>\n",
       "      <td>62.0</td>\n",
       "      <td>0</td>\n",
       "      <td>0</td>\n",
       "      <td>240276</td>\n",
       "      <td>9.6875</td>\n",
       "      <td>NaN</td>\n",
       "      <td>Q</td>\n",
       "    </tr>\n",
       "    <tr>\n",
       "      <th>3</th>\n",
       "      <td>895</td>\n",
       "      <td>3</td>\n",
       "      <td>Wirz, Mr. Albert</td>\n",
       "      <td>male</td>\n",
       "      <td>27.0</td>\n",
       "      <td>0</td>\n",
       "      <td>0</td>\n",
       "      <td>315154</td>\n",
       "      <td>8.6625</td>\n",
       "      <td>NaN</td>\n",
       "      <td>S</td>\n",
       "    </tr>\n",
       "    <tr>\n",
       "      <th>4</th>\n",
       "      <td>896</td>\n",
       "      <td>3</td>\n",
       "      <td>Hirvonen, Mrs. Alexander (Helga E Lindqvist)</td>\n",
       "      <td>female</td>\n",
       "      <td>22.0</td>\n",
       "      <td>1</td>\n",
       "      <td>1</td>\n",
       "      <td>3101298</td>\n",
       "      <td>12.2875</td>\n",
       "      <td>NaN</td>\n",
       "      <td>S</td>\n",
       "    </tr>\n",
       "  </tbody>\n",
       "</table>\n",
       "</div>"
      ],
      "text/plain": [
       "   PassengerId  Pclass                                          Name     Sex  \\\n",
       "0          892       3                              Kelly, Mr. James    male   \n",
       "1          893       3              Wilkes, Mrs. James (Ellen Needs)  female   \n",
       "2          894       2                     Myles, Mr. Thomas Francis    male   \n",
       "3          895       3                              Wirz, Mr. Albert    male   \n",
       "4          896       3  Hirvonen, Mrs. Alexander (Helga E Lindqvist)  female   \n",
       "\n",
       "    Age  SibSp  Parch   Ticket     Fare Cabin Embarked  \n",
       "0  34.5      0      0   330911   7.8292   NaN        Q  \n",
       "1  47.0      1      0   363272   7.0000   NaN        S  \n",
       "2  62.0      0      0   240276   9.6875   NaN        Q  \n",
       "3  27.0      0      0   315154   8.6625   NaN        S  \n",
       "4  22.0      1      1  3101298  12.2875   NaN        S  "
      ]
     },
     "execution_count": 20,
     "metadata": {},
     "output_type": "execute_result"
    }
   ],
   "source": [
    "test.head()"
   ]
  },
  {
   "cell_type": "code",
   "execution_count": 21,
   "id": "underlying-break",
   "metadata": {},
   "outputs": [
    {
     "data": {
      "text/html": [
       "<div>\n",
       "<style scoped>\n",
       "    .dataframe tbody tr th:only-of-type {\n",
       "        vertical-align: middle;\n",
       "    }\n",
       "\n",
       "    .dataframe tbody tr th {\n",
       "        vertical-align: top;\n",
       "    }\n",
       "\n",
       "    .dataframe thead th {\n",
       "        text-align: right;\n",
       "    }\n",
       "</style>\n",
       "<table border=\"1\" class=\"dataframe\">\n",
       "  <thead>\n",
       "    <tr style=\"text-align: right;\">\n",
       "      <th></th>\n",
       "      <th>Sex</th>\n",
       "      <th>Age</th>\n",
       "      <th>SibSp</th>\n",
       "      <th>Parch</th>\n",
       "      <th>Fare</th>\n",
       "      <th>Pclass_1</th>\n",
       "      <th>Pclass_2</th>\n",
       "      <th>Pclass_3</th>\n",
       "      <th>Embarked_C</th>\n",
       "      <th>Embarked_Q</th>\n",
       "      <th>Embarked_S</th>\n",
       "    </tr>\n",
       "  </thead>\n",
       "  <tbody>\n",
       "    <tr>\n",
       "      <th>0</th>\n",
       "      <td>1</td>\n",
       "      <td>34.500000</td>\n",
       "      <td>0</td>\n",
       "      <td>0</td>\n",
       "      <td>7.8292</td>\n",
       "      <td>0</td>\n",
       "      <td>0</td>\n",
       "      <td>1</td>\n",
       "      <td>0</td>\n",
       "      <td>1</td>\n",
       "      <td>0</td>\n",
       "    </tr>\n",
       "    <tr>\n",
       "      <th>1</th>\n",
       "      <td>0</td>\n",
       "      <td>47.000000</td>\n",
       "      <td>1</td>\n",
       "      <td>0</td>\n",
       "      <td>7.0000</td>\n",
       "      <td>0</td>\n",
       "      <td>0</td>\n",
       "      <td>1</td>\n",
       "      <td>0</td>\n",
       "      <td>0</td>\n",
       "      <td>1</td>\n",
       "    </tr>\n",
       "    <tr>\n",
       "      <th>2</th>\n",
       "      <td>1</td>\n",
       "      <td>62.000000</td>\n",
       "      <td>0</td>\n",
       "      <td>0</td>\n",
       "      <td>9.6875</td>\n",
       "      <td>0</td>\n",
       "      <td>1</td>\n",
       "      <td>0</td>\n",
       "      <td>0</td>\n",
       "      <td>1</td>\n",
       "      <td>0</td>\n",
       "    </tr>\n",
       "    <tr>\n",
       "      <th>3</th>\n",
       "      <td>1</td>\n",
       "      <td>27.000000</td>\n",
       "      <td>0</td>\n",
       "      <td>0</td>\n",
       "      <td>8.6625</td>\n",
       "      <td>0</td>\n",
       "      <td>0</td>\n",
       "      <td>1</td>\n",
       "      <td>0</td>\n",
       "      <td>0</td>\n",
       "      <td>1</td>\n",
       "    </tr>\n",
       "    <tr>\n",
       "      <th>4</th>\n",
       "      <td>0</td>\n",
       "      <td>22.000000</td>\n",
       "      <td>1</td>\n",
       "      <td>1</td>\n",
       "      <td>12.2875</td>\n",
       "      <td>0</td>\n",
       "      <td>0</td>\n",
       "      <td>1</td>\n",
       "      <td>0</td>\n",
       "      <td>0</td>\n",
       "      <td>1</td>\n",
       "    </tr>\n",
       "    <tr>\n",
       "      <th>...</th>\n",
       "      <td>...</td>\n",
       "      <td>...</td>\n",
       "      <td>...</td>\n",
       "      <td>...</td>\n",
       "      <td>...</td>\n",
       "      <td>...</td>\n",
       "      <td>...</td>\n",
       "      <td>...</td>\n",
       "      <td>...</td>\n",
       "      <td>...</td>\n",
       "      <td>...</td>\n",
       "    </tr>\n",
       "    <tr>\n",
       "      <th>413</th>\n",
       "      <td>1</td>\n",
       "      <td>17.447013</td>\n",
       "      <td>0</td>\n",
       "      <td>0</td>\n",
       "      <td>8.0500</td>\n",
       "      <td>0</td>\n",
       "      <td>0</td>\n",
       "      <td>1</td>\n",
       "      <td>0</td>\n",
       "      <td>0</td>\n",
       "      <td>1</td>\n",
       "    </tr>\n",
       "    <tr>\n",
       "      <th>414</th>\n",
       "      <td>0</td>\n",
       "      <td>39.000000</td>\n",
       "      <td>0</td>\n",
       "      <td>0</td>\n",
       "      <td>108.9000</td>\n",
       "      <td>1</td>\n",
       "      <td>0</td>\n",
       "      <td>0</td>\n",
       "      <td>1</td>\n",
       "      <td>0</td>\n",
       "      <td>0</td>\n",
       "    </tr>\n",
       "    <tr>\n",
       "      <th>415</th>\n",
       "      <td>1</td>\n",
       "      <td>38.500000</td>\n",
       "      <td>0</td>\n",
       "      <td>0</td>\n",
       "      <td>7.2500</td>\n",
       "      <td>0</td>\n",
       "      <td>0</td>\n",
       "      <td>1</td>\n",
       "      <td>0</td>\n",
       "      <td>0</td>\n",
       "      <td>1</td>\n",
       "    </tr>\n",
       "    <tr>\n",
       "      <th>416</th>\n",
       "      <td>1</td>\n",
       "      <td>13.815395</td>\n",
       "      <td>0</td>\n",
       "      <td>0</td>\n",
       "      <td>8.0500</td>\n",
       "      <td>0</td>\n",
       "      <td>0</td>\n",
       "      <td>1</td>\n",
       "      <td>0</td>\n",
       "      <td>0</td>\n",
       "      <td>1</td>\n",
       "    </tr>\n",
       "    <tr>\n",
       "      <th>417</th>\n",
       "      <td>1</td>\n",
       "      <td>26.214358</td>\n",
       "      <td>1</td>\n",
       "      <td>1</td>\n",
       "      <td>22.3583</td>\n",
       "      <td>0</td>\n",
       "      <td>0</td>\n",
       "      <td>1</td>\n",
       "      <td>1</td>\n",
       "      <td>0</td>\n",
       "      <td>0</td>\n",
       "    </tr>\n",
       "  </tbody>\n",
       "</table>\n",
       "<p>418 rows × 11 columns</p>\n",
       "</div>"
      ],
      "text/plain": [
       "     Sex        Age  SibSp  Parch      Fare  Pclass_1  Pclass_2  Pclass_3  \\\n",
       "0      1  34.500000      0      0    7.8292         0         0         1   \n",
       "1      0  47.000000      1      0    7.0000         0         0         1   \n",
       "2      1  62.000000      0      0    9.6875         0         1         0   \n",
       "3      1  27.000000      0      0    8.6625         0         0         1   \n",
       "4      0  22.000000      1      1   12.2875         0         0         1   \n",
       "..   ...        ...    ...    ...       ...       ...       ...       ...   \n",
       "413    1  17.447013      0      0    8.0500         0         0         1   \n",
       "414    0  39.000000      0      0  108.9000         1         0         0   \n",
       "415    1  38.500000      0      0    7.2500         0         0         1   \n",
       "416    1  13.815395      0      0    8.0500         0         0         1   \n",
       "417    1  26.214358      1      1   22.3583         0         0         1   \n",
       "\n",
       "     Embarked_C  Embarked_Q  Embarked_S  \n",
       "0             0           1           0  \n",
       "1             0           0           1  \n",
       "2             0           1           0  \n",
       "3             0           0           1  \n",
       "4             0           0           1  \n",
       "..          ...         ...         ...  \n",
       "413           0           0           1  \n",
       "414           1           0           0  \n",
       "415           0           0           1  \n",
       "416           0           0           1  \n",
       "417           1           0           0  \n",
       "\n",
       "[418 rows x 11 columns]"
      ]
     },
     "execution_count": 21,
     "metadata": {},
     "output_type": "execute_result"
    }
   ],
   "source": [
    "X_test = preprocess(test)\n",
    "X_test"
   ]
  },
  {
   "cell_type": "code",
   "execution_count": 22,
   "id": "color-empire",
   "metadata": {},
   "outputs": [
    {
     "data": {
      "text/plain": [
       "Sex           0\n",
       "Age           0\n",
       "SibSp         0\n",
       "Parch         0\n",
       "Fare          1\n",
       "Pclass_1      0\n",
       "Pclass_2      0\n",
       "Pclass_3      0\n",
       "Embarked_C    0\n",
       "Embarked_Q    0\n",
       "Embarked_S    0\n",
       "dtype: int64"
      ]
     },
     "execution_count": 22,
     "metadata": {},
     "output_type": "execute_result"
    }
   ],
   "source": [
    "X_test.isna().sum()"
   ]
  },
  {
   "cell_type": "code",
   "execution_count": 23,
   "id": "rubber-retro",
   "metadata": {},
   "outputs": [],
   "source": [
    "X_test[\"Fare\"].fillna(method='backfill', inplace=True)"
   ]
  },
  {
   "cell_type": "code",
   "execution_count": 24,
   "id": "large-hamburg",
   "metadata": {},
   "outputs": [],
   "source": [
    "X_test = scaler_TOT.transform(X_test)\n",
    "predict = TreeClf_TOT.predict(X_test)"
   ]
  },
  {
   "cell_type": "code",
   "execution_count": 25,
   "id": "final-aberdeen",
   "metadata": {},
   "outputs": [
    {
     "data": {
      "text/plain": [
       "418"
      ]
     },
     "execution_count": 25,
     "metadata": {},
     "output_type": "execute_result"
    }
   ],
   "source": [
    "np.size(predict)"
   ]
  },
  {
   "cell_type": "code",
   "execution_count": 26,
   "id": "necessary-caution",
   "metadata": {},
   "outputs": [],
   "source": [
    "import csv\n",
    "with open('submission.csv', 'w', newline='') as csvfile:\n",
    "    Pred_writer = csv.writer(csvfile, delimiter=',')\n",
    "    Pred_writer.writerow(['PassengerId','Survived'])\n",
    "    for i in range(len(predict)):\n",
    "        Pred_writer.writerow([892+i, predict[i]])"
   ]
  },
  {
   "cell_type": "code",
   "execution_count": null,
   "id": "voluntary-squad",
   "metadata": {},
   "outputs": [],
   "source": []
  }
 ],
 "metadata": {
  "kernelspec": {
   "display_name": "Python 3",
   "language": "python",
   "name": "python3"
  },
  "language_info": {
   "codemirror_mode": {
    "name": "ipython",
    "version": 3
   },
   "file_extension": ".py",
   "mimetype": "text/x-python",
   "name": "python",
   "nbconvert_exporter": "python",
   "pygments_lexer": "ipython3",
   "version": "3.6.13"
  }
 },
 "nbformat": 4,
 "nbformat_minor": 5
}
